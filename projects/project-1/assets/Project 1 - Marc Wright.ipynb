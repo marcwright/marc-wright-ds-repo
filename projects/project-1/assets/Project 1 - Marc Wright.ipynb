{
 "cells": [
  {
   "cell_type": "code",
   "execution_count": 1,
   "metadata": {
    "collapsed": true
   },
   "outputs": [],
   "source": [
    "import pandas as pd\n",
    "\n",
    "def read_csv_file(path):\n",
    "    df = pd.read_csv(path)\n",
    "    return(df)\n",
    "\n",
    "path = \"./admissions.csv\"    "
   ]
  },
  {
   "cell_type": "code",
   "execution_count": 2,
   "metadata": {
    "collapsed": false
   },
   "outputs": [
    {
     "data": {
      "text/html": [
       "<div>\n",
       "<table border=\"1\" class=\"dataframe\">\n",
       "  <thead>\n",
       "    <tr style=\"text-align: right;\">\n",
       "      <th></th>\n",
       "      <th>admit</th>\n",
       "      <th>gre</th>\n",
       "      <th>gpa</th>\n",
       "      <th>prestige</th>\n",
       "    </tr>\n",
       "  </thead>\n",
       "  <tbody>\n",
       "    <tr>\n",
       "      <th>0</th>\n",
       "      <td>0</td>\n",
       "      <td>380</td>\n",
       "      <td>3.61</td>\n",
       "      <td>3</td>\n",
       "    </tr>\n",
       "    <tr>\n",
       "      <th>1</th>\n",
       "      <td>1</td>\n",
       "      <td>660</td>\n",
       "      <td>3.67</td>\n",
       "      <td>3</td>\n",
       "    </tr>\n",
       "    <tr>\n",
       "      <th>2</th>\n",
       "      <td>1</td>\n",
       "      <td>800</td>\n",
       "      <td>4.00</td>\n",
       "      <td>1</td>\n",
       "    </tr>\n",
       "    <tr>\n",
       "      <th>3</th>\n",
       "      <td>1</td>\n",
       "      <td>640</td>\n",
       "      <td>3.19</td>\n",
       "      <td>4</td>\n",
       "    </tr>\n",
       "    <tr>\n",
       "      <th>4</th>\n",
       "      <td>0</td>\n",
       "      <td>520</td>\n",
       "      <td>2.93</td>\n",
       "      <td>4</td>\n",
       "    </tr>\n",
       "  </tbody>\n",
       "</table>\n",
       "</div>"
      ],
      "text/plain": [
       "   admit  gre   gpa  prestige\n",
       "0      0  380  3.61         3\n",
       "1      1  660  3.67         3\n",
       "2      1  800  4.00         1\n",
       "3      1  640  3.19         4\n",
       "4      0  520  2.93         4"
      ]
     },
     "execution_count": 2,
     "metadata": {},
     "output_type": "execute_result"
    }
   ],
   "source": [
    "df = read_csv_file(path)\n",
    "df.head()"
   ]
  },
  {
   "cell_type": "code",
   "execution_count": 4,
   "metadata": {
    "collapsed": false
   },
   "outputs": [
    {
     "data": {
      "text/plain": [
       "<bound method DataFrame.describe of      admit  gre   gpa  prestige\n",
       "0        0  380  3.61         3\n",
       "1        1  660  3.67         3\n",
       "2        1  800  4.00         1\n",
       "3        1  640  3.19         4\n",
       "4        0  520  2.93         4\n",
       "5        1  760  3.00         2\n",
       "6        1  560  2.98         1\n",
       "7        0  400  3.08         2\n",
       "8        1  540  3.39         3\n",
       "9        0  700  3.92         2\n",
       "10       0  800  4.00         4\n",
       "11       0  440  3.22         1\n",
       "12       1  760  4.00         1\n",
       "13       0  700  3.08         2\n",
       "14       1  700  4.00         1\n",
       "15       0  480  3.44         3\n",
       "16       0  780  3.87         4\n",
       "17       0  360  2.56         3\n",
       "18       0  800  3.75         2\n",
       "19       1  540  3.81         1\n",
       "20       0  500  3.17         3\n",
       "21       1  660  3.63         2\n",
       "22       0  600  2.82         4\n",
       "23       0  680  3.19         4\n",
       "24       1  760  3.35         2\n",
       "25       1  800  3.66         1\n",
       "26       1  620  3.61         1\n",
       "27       1  520  3.74         4\n",
       "28       1  780  3.22         2\n",
       "29       0  520  3.29         1\n",
       "..     ...  ...   ...       ...\n",
       "370      1  540  3.77         2\n",
       "371      1  680  3.76         3\n",
       "372      1  680  2.42         1\n",
       "373      1  620  3.37         1\n",
       "374      0  560  3.78         2\n",
       "375      0  560  3.49         4\n",
       "376      0  620  3.63         2\n",
       "377      1  800  4.00         2\n",
       "378      0  640  3.12         3\n",
       "379      0  540  2.70         2\n",
       "380      0  700  3.65         2\n",
       "381      1  540  3.49         2\n",
       "382      0  540  3.51         2\n",
       "383      0  660  4.00         1\n",
       "384      1  480  2.62         2\n",
       "385      0  420  3.02         1\n",
       "386      1  740  3.86         2\n",
       "387      0  580  3.36         2\n",
       "388      0  640  3.17         2\n",
       "389      0  640  3.51         2\n",
       "390      1  800  3.05         2\n",
       "391      1  660  3.88         2\n",
       "392      1  600  3.38         3\n",
       "393      1  620  3.75         2\n",
       "394      1  460  3.99         3\n",
       "395      0  620  4.00         2\n",
       "396      0  560  3.04         3\n",
       "397      0  460  2.63         2\n",
       "398      0  700  3.65         2\n",
       "399      0  600  3.89         3\n",
       "\n",
       "[400 rows x 4 columns]>"
      ]
     },
     "execution_count": 4,
     "metadata": {},
     "output_type": "execute_result"
    }
   ],
   "source": [
    "df.describe"
   ]
  },
  {
   "cell_type": "code",
   "execution_count": null,
   "metadata": {
    "collapsed": true
   },
   "outputs": [],
   "source": [
    "WHAT IS THE OUTCOME: DOES "
   ]
  }
 ],
 "metadata": {
  "kernelspec": {
   "display_name": "Python 2",
   "language": "python",
   "name": "python2"
  },
  "language_info": {
   "codemirror_mode": {
    "name": "ipython",
    "version": 2
   },
   "file_extension": ".py",
   "mimetype": "text/x-python",
   "name": "python",
   "nbconvert_exporter": "python",
   "pygments_lexer": "ipython2",
   "version": "2.7.11"
  }
 },
 "nbformat": 4,
 "nbformat_minor": 0
}
