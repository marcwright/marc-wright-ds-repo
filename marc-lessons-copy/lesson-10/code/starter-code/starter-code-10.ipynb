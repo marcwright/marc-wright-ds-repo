{
 "cells": [
  {
   "cell_type": "markdown",
   "metadata": {},
   "source": [
    "### Cost Benefit Questions\n",
    "\n",
    "1. How would you rephrase the business problem if your model was optimizing toward _precision_? i.e., How might the model behave differently, and what effect would it have?\n",
    "2. How would you rephrase the business problem if your model was optimizing toward _recall_?\n",
    "3. What would the most ideal model look like in this case?\n"
   ]
  },
  {
   "cell_type": "markdown",
   "metadata": {},
   "source": [
    "### Visualizing models over variables"
   ]
  },
  {
   "cell_type": "code",
   "execution_count": 1,
   "metadata": {
    "collapsed": true
   },
   "outputs": [],
   "source": [
    "%matplotlib inline"
   ]
  },
  {
   "cell_type": "code",
   "execution_count": 2,
   "metadata": {
    "collapsed": false
   },
   "outputs": [],
   "source": [
    "import pandas as pd\n",
    "import sklearn.linear_model as lm\n",
    "import matplotlib.pyplot as plt\n",
    "import seaborn as sns\n",
    "\n",
    "df = pd.read_csv('../../assets/dataset/flight_delays.csv')\n",
    "df = df.loc[df.DEP_DEL15.notnull()].copy()"
   ]
  },
  {
   "cell_type": "code",
   "execution_count": 3,
   "metadata": {
    "collapsed": false
   },
   "outputs": [
    {
     "data": {
      "text/html": [
       "<div>\n",
       "<table border=\"1\" class=\"dataframe\">\n",
       "  <thead>\n",
       "    <tr style=\"text-align: right;\">\n",
       "      <th></th>\n",
       "      <th>DAY_OF_MONTH</th>\n",
       "      <th>DAY_OF_WEEK</th>\n",
       "      <th>FL_DATE</th>\n",
       "      <th>UNIQUE_CARRIER</th>\n",
       "      <th>AIRLINE_ID</th>\n",
       "      <th>CARRIER</th>\n",
       "      <th>ORIGIN_AIRPORT_ID</th>\n",
       "      <th>ORIGIN_AIRPORT_SEQ_ID</th>\n",
       "      <th>ORIGIN_CITY_MARKET_ID</th>\n",
       "      <th>DEST_AIRPORT_ID</th>\n",
       "      <th>DEST_AIRPORT_SEQ_ID</th>\n",
       "      <th>DEST_CITY_MARKET_ID</th>\n",
       "      <th>CRS_DEP_TIME</th>\n",
       "      <th>DEP_TIME</th>\n",
       "      <th>DEP_DEL15</th>\n",
       "      <th>Unnamed: 15</th>\n",
       "    </tr>\n",
       "  </thead>\n",
       "  <tbody>\n",
       "    <tr>\n",
       "      <th>0</th>\n",
       "      <td>1</td>\n",
       "      <td>4</td>\n",
       "      <td>2015-01-01</td>\n",
       "      <td>AA</td>\n",
       "      <td>19805</td>\n",
       "      <td>AA</td>\n",
       "      <td>12478</td>\n",
       "      <td>1247802</td>\n",
       "      <td>31703</td>\n",
       "      <td>12892</td>\n",
       "      <td>1289203</td>\n",
       "      <td>32575</td>\n",
       "      <td>900</td>\n",
       "      <td>855</td>\n",
       "      <td>0</td>\n",
       "      <td>NaN</td>\n",
       "    </tr>\n",
       "    <tr>\n",
       "      <th>1</th>\n",
       "      <td>1</td>\n",
       "      <td>4</td>\n",
       "      <td>2015-01-01</td>\n",
       "      <td>AA</td>\n",
       "      <td>19805</td>\n",
       "      <td>AA</td>\n",
       "      <td>12892</td>\n",
       "      <td>1289203</td>\n",
       "      <td>32575</td>\n",
       "      <td>12478</td>\n",
       "      <td>1247802</td>\n",
       "      <td>31703</td>\n",
       "      <td>900</td>\n",
       "      <td>856</td>\n",
       "      <td>0</td>\n",
       "      <td>NaN</td>\n",
       "    </tr>\n",
       "    <tr>\n",
       "      <th>2</th>\n",
       "      <td>1</td>\n",
       "      <td>4</td>\n",
       "      <td>2015-01-01</td>\n",
       "      <td>AA</td>\n",
       "      <td>19805</td>\n",
       "      <td>AA</td>\n",
       "      <td>12478</td>\n",
       "      <td>1247802</td>\n",
       "      <td>31703</td>\n",
       "      <td>12892</td>\n",
       "      <td>1289203</td>\n",
       "      <td>32575</td>\n",
       "      <td>1230</td>\n",
       "      <td>1226</td>\n",
       "      <td>0</td>\n",
       "      <td>NaN</td>\n",
       "    </tr>\n",
       "    <tr>\n",
       "      <th>3</th>\n",
       "      <td>1</td>\n",
       "      <td>4</td>\n",
       "      <td>2015-01-01</td>\n",
       "      <td>AA</td>\n",
       "      <td>19805</td>\n",
       "      <td>AA</td>\n",
       "      <td>12892</td>\n",
       "      <td>1289203</td>\n",
       "      <td>32575</td>\n",
       "      <td>12478</td>\n",
       "      <td>1247802</td>\n",
       "      <td>31703</td>\n",
       "      <td>1220</td>\n",
       "      <td>1214</td>\n",
       "      <td>0</td>\n",
       "      <td>NaN</td>\n",
       "    </tr>\n",
       "    <tr>\n",
       "      <th>4</th>\n",
       "      <td>1</td>\n",
       "      <td>4</td>\n",
       "      <td>2015-01-01</td>\n",
       "      <td>AA</td>\n",
       "      <td>19805</td>\n",
       "      <td>AA</td>\n",
       "      <td>11298</td>\n",
       "      <td>1129803</td>\n",
       "      <td>30194</td>\n",
       "      <td>12173</td>\n",
       "      <td>1217302</td>\n",
       "      <td>32134</td>\n",
       "      <td>1305</td>\n",
       "      <td>1754</td>\n",
       "      <td>1</td>\n",
       "      <td>NaN</td>\n",
       "    </tr>\n",
       "  </tbody>\n",
       "</table>\n",
       "</div>"
      ],
      "text/plain": [
       "   DAY_OF_MONTH  DAY_OF_WEEK     FL_DATE UNIQUE_CARRIER  AIRLINE_ID CARRIER  \\\n",
       "0             1            4  2015-01-01             AA       19805      AA   \n",
       "1             1            4  2015-01-01             AA       19805      AA   \n",
       "2             1            4  2015-01-01             AA       19805      AA   \n",
       "3             1            4  2015-01-01             AA       19805      AA   \n",
       "4             1            4  2015-01-01             AA       19805      AA   \n",
       "\n",
       "   ORIGIN_AIRPORT_ID  ORIGIN_AIRPORT_SEQ_ID  ORIGIN_CITY_MARKET_ID  \\\n",
       "0              12478                1247802                  31703   \n",
       "1              12892                1289203                  32575   \n",
       "2              12478                1247802                  31703   \n",
       "3              12892                1289203                  32575   \n",
       "4              11298                1129803                  30194   \n",
       "\n",
       "   DEST_AIRPORT_ID  DEST_AIRPORT_SEQ_ID  DEST_CITY_MARKET_ID  CRS_DEP_TIME  \\\n",
       "0            12892              1289203                32575           900   \n",
       "1            12478              1247802                31703           900   \n",
       "2            12892              1289203                32575          1230   \n",
       "3            12478              1247802                31703          1220   \n",
       "4            12173              1217302                32134          1305   \n",
       "\n",
       "   DEP_TIME  DEP_DEL15  Unnamed: 15  \n",
       "0       855          0          NaN  \n",
       "1       856          0          NaN  \n",
       "2      1226          0          NaN  \n",
       "3      1214          0          NaN  \n",
       "4      1754          1          NaN  "
      ]
     },
     "execution_count": 3,
     "metadata": {},
     "output_type": "execute_result"
    }
   ],
   "source": [
    "df.head()"
   ]
  },
  {
   "cell_type": "code",
   "execution_count": 4,
   "metadata": {
    "collapsed": false
   },
   "outputs": [],
   "source": [
    "df = df[df.DEP_DEL15.notnull()]\n",
    "df = df.join(pd.get_dummies(df['CARRIER'], prefix='carrier'))\n",
    "df = df.join(pd.get_dummies(df['DAY_OF_WEEK'], prefix='dow'))\n",
    "model = lm.LogisticRegression()\n",
    "features = [i for i in df.columns if 'dow_' in i]"
   ]
  },
  {
   "cell_type": "code",
   "execution_count": 5,
   "metadata": {
    "collapsed": false
   },
   "outputs": [
    {
     "data": {
      "text/plain": [
       "(458311, 37)"
      ]
     },
     "execution_count": 5,
     "metadata": {},
     "output_type": "execute_result"
    }
   ],
   "source": [
    "df.shape"
   ]
  },
  {
   "cell_type": "code",
   "execution_count": 13,
   "metadata": {
    "collapsed": false
   },
   "outputs": [
    {
     "data": {
      "text/plain": [
       "<bound method DataFrame.describe of         DAY_OF_MONTH  DAY_OF_WEEK     FL_DATE UNIQUE_CARRIER  AIRLINE_ID  \\\n",
       "0                  1            4  2015-01-01             AA       19805   \n",
       "1                  1            4  2015-01-01             AA       19805   \n",
       "2                  1            4  2015-01-01             AA       19805   \n",
       "3                  1            4  2015-01-01             AA       19805   \n",
       "4                  1            4  2015-01-01             AA       19805   \n",
       "6                  1            4  2015-01-01             AA       19805   \n",
       "7                  1            4  2015-01-01             AA       19805   \n",
       "8                  1            4  2015-01-01             AA       19805   \n",
       "9                  1            4  2015-01-01             AA       19805   \n",
       "10                 1            4  2015-01-01             AA       19805   \n",
       "11                 1            4  2015-01-01             AA       19805   \n",
       "12                 1            4  2015-01-01             AA       19805   \n",
       "13                 1            4  2015-01-01             AA       19805   \n",
       "14                 1            4  2015-01-01             AA       19805   \n",
       "15                 1            4  2015-01-01             AA       19805   \n",
       "16                 1            4  2015-01-01             AA       19805   \n",
       "17                 1            4  2015-01-01             AA       19805   \n",
       "18                 1            4  2015-01-01             AA       19805   \n",
       "19                 1            4  2015-01-01             AA       19805   \n",
       "20                 1            4  2015-01-01             AA       19805   \n",
       "21                 1            4  2015-01-01             AA       19805   \n",
       "22                 1            4  2015-01-01             AA       19805   \n",
       "23                 1            4  2015-01-01             AA       19805   \n",
       "24                 1            4  2015-01-01             AA       19805   \n",
       "26                 1            4  2015-01-01             AA       19805   \n",
       "27                 1            4  2015-01-01             AA       19805   \n",
       "28                 1            4  2015-01-01             AA       19805   \n",
       "29                 1            4  2015-01-01             AA       19805   \n",
       "30                 1            4  2015-01-01             AA       19805   \n",
       "31                 1            4  2015-01-01             AA       19805   \n",
       "...              ...          ...         ...            ...         ...   \n",
       "469938            31            6  2015-01-31             WN       19393   \n",
       "469939            31            6  2015-01-31             WN       19393   \n",
       "469940            31            6  2015-01-31             WN       19393   \n",
       "469941            31            6  2015-01-31             WN       19393   \n",
       "469942            31            6  2015-01-31             WN       19393   \n",
       "469943            31            6  2015-01-31             WN       19393   \n",
       "469944            31            6  2015-01-31             WN       19393   \n",
       "469945            31            6  2015-01-31             WN       19393   \n",
       "469946            31            6  2015-01-31             WN       19393   \n",
       "469947            31            6  2015-01-31             WN       19393   \n",
       "469948            31            6  2015-01-31             WN       19393   \n",
       "469949            31            6  2015-01-31             WN       19393   \n",
       "469950            31            6  2015-01-31             WN       19393   \n",
       "469951            31            6  2015-01-31             WN       19393   \n",
       "469952            31            6  2015-01-31             WN       19393   \n",
       "469953            31            6  2015-01-31             WN       19393   \n",
       "469954            31            6  2015-01-31             WN       19393   \n",
       "469955            31            6  2015-01-31             WN       19393   \n",
       "469956            31            6  2015-01-31             WN       19393   \n",
       "469957            31            6  2015-01-31             WN       19393   \n",
       "469958            31            6  2015-01-31             WN       19393   \n",
       "469959            31            6  2015-01-31             WN       19393   \n",
       "469960            31            6  2015-01-31             WN       19393   \n",
       "469961            31            6  2015-01-31             WN       19393   \n",
       "469962            31            6  2015-01-31             WN       19393   \n",
       "469963            31            6  2015-01-31             WN       19393   \n",
       "469964            31            6  2015-01-31             WN       19393   \n",
       "469965            31            6  2015-01-31             WN       19393   \n",
       "469966            31            6  2015-01-31             WN       19393   \n",
       "469967            31            6  2015-01-31             WN       19393   \n",
       "\n",
       "       CARRIER  ORIGIN_AIRPORT_ID  ORIGIN_AIRPORT_SEQ_ID  \\\n",
       "0           AA              12478                1247802   \n",
       "1           AA              12892                1289203   \n",
       "2           AA              12478                1247802   \n",
       "3           AA              12892                1289203   \n",
       "4           AA              11298                1129803   \n",
       "6           AA              11298                1129803   \n",
       "7           AA              12173                1217302   \n",
       "8           AA              12478                1247802   \n",
       "9           AA              12892                1289203   \n",
       "10          AA              12892                1289203   \n",
       "11          AA              13830                1383002   \n",
       "12          AA              12478                1247802   \n",
       "13          AA              14771                1477101   \n",
       "14          AA              10397                1039705   \n",
       "15          AA              12478                1247802   \n",
       "16          AA              14771                1477101   \n",
       "17          AA              12478                1247802   \n",
       "18          AA              12892                1289203   \n",
       "19          AA              11298                1129803   \n",
       "20          AA              14771                1477101   \n",
       "21          AA              14771                1477101   \n",
       "22          AA              10721                1072102   \n",
       "23          AA              11298                1129803   \n",
       "24          AA              12892                1289203   \n",
       "26          AA              13891                1389101   \n",
       "27          AA              12892                1289203   \n",
       "28          AA              12892                1289203   \n",
       "29          AA              12892                1289203   \n",
       "30          AA              13830                1383002   \n",
       "31          AA              12478                1247802   \n",
       "...        ...                ...                    ...   \n",
       "469938      WN              15304                1530402   \n",
       "469939      WN              15304                1530402   \n",
       "469940      WN              15304                1530402   \n",
       "469941      WN              15304                1530402   \n",
       "469942      WN              15304                1530402   \n",
       "469943      WN              15304                1530402   \n",
       "469944      WN              15304                1530402   \n",
       "469945      WN              15304                1530402   \n",
       "469946      WN              15304                1530402   \n",
       "469947      WN              15304                1530402   \n",
       "469948      WN              15304                1530402   \n",
       "469949      WN              15370                1537002   \n",
       "469950      WN              15370                1537002   \n",
       "469951      WN              15370                1537002   \n",
       "469952      WN              15370                1537002   \n",
       "469953      WN              15370                1537002   \n",
       "469954      WN              15370                1537002   \n",
       "469955      WN              15370                1537002   \n",
       "469956      WN              15370                1537002   \n",
       "469957      WN              15376                1537602   \n",
       "469958      WN              15376                1537602   \n",
       "469959      WN              15376                1537602   \n",
       "469960      WN              15376                1537602   \n",
       "469961      WN              15376                1537602   \n",
       "469962      WN              15376                1537602   \n",
       "469963      WN              15376                1537602   \n",
       "469964      WN              15376                1537602   \n",
       "469965      WN              15376                1537602   \n",
       "469966      WN              15376                1537602   \n",
       "469967      WN              15376                1537602   \n",
       "\n",
       "        ORIGIN_CITY_MARKET_ID  DEST_AIRPORT_ID      ...        dow_1  dow_2  \\\n",
       "0                       31703            12892      ...            0      0   \n",
       "1                       32575            12478      ...            0      0   \n",
       "2                       31703            12892      ...            0      0   \n",
       "3                       32575            12478      ...            0      0   \n",
       "4                       30194            12173      ...            0      0   \n",
       "6                       30194            13830      ...            0      0   \n",
       "7                       32134            11298      ...            0      0   \n",
       "8                       31703            12892      ...            0      0   \n",
       "9                       32575            12478      ...            0      0   \n",
       "10                      32575            12478      ...            0      0   \n",
       "11                      33830            12892      ...            0      0   \n",
       "12                      31703            14771      ...            0      0   \n",
       "13                      32457            12478      ...            0      0   \n",
       "14                      30397            13303      ...            0      0   \n",
       "15                      31703            12892      ...            0      0   \n",
       "16                      32457            12478      ...            0      0   \n",
       "17                      31703            12892      ...            0      0   \n",
       "18                      32575            12478      ...            0      0   \n",
       "19                      30194            14771      ...            0      0   \n",
       "20                      32457            11298      ...            0      0   \n",
       "21                      32457            12478      ...            0      0   \n",
       "22                      30721            12892      ...            0      0   \n",
       "23                      30194            12889      ...            0      0   \n",
       "24                      32575            13303      ...            0      0   \n",
       "26                      32575            11298      ...            0      0   \n",
       "27                      32575            12478      ...            0      0   \n",
       "28                      32575            12173      ...            0      0   \n",
       "29                      32575            12478      ...            0      0   \n",
       "30                      33830            11298      ...            0      0   \n",
       "31                      31703            12892      ...            0      0   \n",
       "...                       ...              ...      ...          ...    ...   \n",
       "469938                  33195            14122      ...            0      0   \n",
       "469939                  33195            14307      ...            0      0   \n",
       "469940                  33195            14307      ...            0      0   \n",
       "469941                  33195            14492      ...            0      0   \n",
       "469942                  33195            14492      ...            0      0   \n",
       "469943                  33195            14576      ...            0      0   \n",
       "469944                  33195            14730      ...            0      0   \n",
       "469945                  33195            14730      ...            0      0   \n",
       "469946                  33195            14843      ...            0      0   \n",
       "469947                  33195            15016      ...            0      0   \n",
       "469948                  33195            15016      ...            0      0   \n",
       "469949                  34653            11259      ...            0      0   \n",
       "469950                  34653            11259      ...            0      0   \n",
       "469951                  34653            11292      ...            0      0   \n",
       "469952                  34653            12191      ...            0      0   \n",
       "469953                  34653            12889      ...            0      0   \n",
       "469954                  34653            13232      ...            0      0   \n",
       "469955                  34653            14107      ...            0      0   \n",
       "469956                  34653            15016      ...            0      0   \n",
       "469957                  30436            11292      ...            0      0   \n",
       "469958                  30436            11292      ...            0      0   \n",
       "469959                  30436            12889      ...            0      0   \n",
       "469960                  30436            12889      ...            0      0   \n",
       "469961                  30436            12889      ...            0      0   \n",
       "469962                  30436            12889      ...            0      0   \n",
       "469963                  30436            12892      ...            0      0   \n",
       "469964                  30436            12892      ...            0      0   \n",
       "469965                  30436            12892      ...            0      0   \n",
       "469966                  30436            13232      ...            0      0   \n",
       "469967                  30436            14679      ...            0      0   \n",
       "\n",
       "        dow_3  dow_4  dow_5  dow_6  dow_7  probability  probability_0  \\\n",
       "0           0      1      0      0      0     0.129193              0   \n",
       "1           0      1      0      0      0     0.129193              1   \n",
       "2           0      1      0      0      0     0.158102              1   \n",
       "3           0      1      0      0      0     0.157153              0   \n",
       "4           0      1      0      0      0     0.165363              0   \n",
       "6           0      1      0      0      0     0.156681              1   \n",
       "7           0      1      0      0      0     0.213394              0   \n",
       "8           0      1      0      0      0     0.113955              0   \n",
       "9           0      1      0      0      0     0.265939              0   \n",
       "10          0      1      0      0      0     0.147473              0   \n",
       "11          0      1      0      0      0     0.287371              0   \n",
       "12          0      1      0      0      0     0.121368              1   \n",
       "13          0      1      0      0      0     0.159533              1   \n",
       "14          0      1      0      0      0     0.113955              0   \n",
       "15          0      1      0      0      0     0.146131              0   \n",
       "16          0      1      0      0      0     0.185491              0   \n",
       "17          0      1      0      0      0     0.225628              1   \n",
       "18          0      1      0      0      0     0.187116              0   \n",
       "19          0      1      0      0      0     0.117982              0   \n",
       "20          0      1      0      0      0     0.141732              0   \n",
       "21          0      1      0      0      0     0.115405              0   \n",
       "22          0      1      0      0      0     0.129193              1   \n",
       "23          0      1      0      0      0     0.226252              0   \n",
       "24          0      1      0      0      0     0.185491              0   \n",
       "26          0      1      0      0      0     0.157627              0   \n",
       "27          0      1      0      0      0     0.291779              0   \n",
       "28          0      1      0      0      0     0.121749              0   \n",
       "29          0      1      0      0      0     0.176494              1   \n",
       "30          0      1      0      0      0     0.239650              0   \n",
       "31          0      1      0      0      0     0.179630              1   \n",
       "...       ...    ...    ...    ...    ...          ...            ...   \n",
       "469938      0      0      0      1      0     0.158720              1   \n",
       "469939      0      0      0      1      0     0.264756              0   \n",
       "469940      0      0      0      1      0     0.152158              0   \n",
       "469941      0      0      0      1      0     0.205879              1   \n",
       "469942      0      0      0      1      0     0.148509              0   \n",
       "469943      0      0      0      1      0     0.169998              0   \n",
       "469944      0      0      0      1      0     0.167992              0   \n",
       "469945      0      0      0      1      0     0.252433              0   \n",
       "469946      0      0      0      1      0     0.162573              0   \n",
       "469947      0      0      0      1      0     0.150324              0   \n",
       "469948      0      0      0      1      0     0.239845              0   \n",
       "469949      0      0      0      1      0     0.237897              1   \n",
       "469950      0      0      0      1      0     0.139702              1   \n",
       "469951      0      0      0      1      0     0.131745              0   \n",
       "469952      0      0      0      1      0     0.151698              1   \n",
       "469953      0      0      0      1      0     0.188914              0   \n",
       "469954      0      0      0      1      0     0.125345              0   \n",
       "469955      0      0      0      1      0     0.237250              0   \n",
       "469956      0      0      0      1      0     0.135047              0   \n",
       "469957      0      0      0      1      0     0.217194              0   \n",
       "469958      0      0      0      1      0     0.161603              1   \n",
       "469959      0      0      0      1      0     0.169495              1   \n",
       "469960      0      0      0      1      0     0.212376              0   \n",
       "469961      0      0      0      1      0     0.133387              1   \n",
       "469962      0      0      0      1      0     0.188914              0   \n",
       "469963      0      0      0      1      0     0.172023              0   \n",
       "469964      0      0      0      1      0     0.249747              0   \n",
       "469965      0      0      0      1      0     0.132154              0   \n",
       "469966      0      0      0      1      0     0.135884              0   \n",
       "469967      0      0      0      1      0     0.140994              0   \n",
       "\n",
       "        probability_1  \n",
       "0            0.169240  \n",
       "1            0.169240  \n",
       "2            0.204857  \n",
       "3            0.203701  \n",
       "4            0.213687  \n",
       "6            0.203124  \n",
       "7            0.270961  \n",
       "8            0.150161  \n",
       "9            0.331464  \n",
       "10           0.191849  \n",
       "11           0.355526  \n",
       "12           0.159469  \n",
       "13           0.206601  \n",
       "14           0.150161  \n",
       "15           0.190200  \n",
       "16           0.237926  \n",
       "17           0.285244  \n",
       "18           0.239866  \n",
       "19           0.155224  \n",
       "20           0.184780  \n",
       "21           0.151986  \n",
       "22           0.169240  \n",
       "23           0.285970  \n",
       "24           0.237926  \n",
       "26           0.204278  \n",
       "27           0.360432  \n",
       "28           0.159947  \n",
       "29           0.227133  \n",
       "30           0.301466  \n",
       "31           0.230902  \n",
       "...               ...  \n",
       "469938       0.182559  \n",
       "469939       0.298355  \n",
       "469940       0.175243  \n",
       "469941       0.234610  \n",
       "469942       0.171167  \n",
       "469943       0.195089  \n",
       "469944       0.192864  \n",
       "469945       0.285124  \n",
       "469946       0.186845  \n",
       "469947       0.173195  \n",
       "469948       0.271548  \n",
       "469949       0.269442  \n",
       "469950       0.161307  \n",
       "469951       0.152370  \n",
       "469952       0.174729  \n",
       "469953       0.215989  \n",
       "469954       0.145162  \n",
       "469955       0.268742  \n",
       "469956       0.156082  \n",
       "469957       0.246965  \n",
       "469958       0.185766  \n",
       "469959       0.194531  \n",
       "469960       0.241710  \n",
       "469961       0.154217  \n",
       "469962       0.215989  \n",
       "469963       0.197333  \n",
       "469964       0.282232  \n",
       "469965       0.152830  \n",
       "469966       0.157022  \n",
       "469967       0.162756  \n",
       "\n",
       "[458311 rows x 40 columns]>"
      ]
     },
     "execution_count": 13,
     "metadata": {},
     "output_type": "execute_result"
    }
   ],
   "source": [
    "df.describe"
   ]
  },
  {
   "cell_type": "code",
   "execution_count": 6,
   "metadata": {
    "collapsed": false
   },
   "outputs": [],
   "source": [
    "features += ['CRS_DEP_TIME']\n",
    "model.fit(df[features[1:]], df['DEP_DEL15'])\n",
    "\n",
    "df['probability'] = model.predict_proba(df[features[1:]]).T[1]"
   ]
  },
  {
   "cell_type": "code",
   "execution_count": 7,
   "metadata": {
    "collapsed": false
   },
   "outputs": [
    {
     "data": {
      "text/plain": [
       "[<matplotlib.text.Text at 0x104071a10>]"
      ]
     },
     "execution_count": 7,
     "metadata": {},
     "output_type": "execute_result"
    },
    {
     "data": {
      "image/png": "[encoded data removed]",
      "text/plain": [
       "<matplotlib.figure.Figure at 0x104027550>"
      ]
     },
     "metadata": {},
     "output_type": "display_data"
    }
   ],
   "source": [
    "ax = plt.subplot(111)\n",
    "colors = ['blue', 'green', 'red', 'purple', 'orange', 'brown']\n",
    "for e, c in enumerate(colors):\n",
    "    df[df[features[e]] == 1].plot(x='CRS_DEP_TIME', y='probability', kind='scatter', color = c, ax=ax)\n",
    "\n",
    "ax.set(title='Probability of Delay\\n Based on Day of Week and Time of Day')\n"
   ]
  },
  {
   "cell_type": "markdown",
   "metadata": {},
   "source": [
    "### Other Answers: visualizing Airline or the inverse"
   ]
  },
  {
   "cell_type": "code",
   "execution_count": 8,
   "metadata": {
    "collapsed": false
   },
   "outputs": [],
   "source": [
    "features = [i for i in df.columns if 'carrier_' in i]\n",
    "features += ['CRS_DEP_TIME']\n",
    "#..."
   ]
  },
  {
   "cell_type": "code",
   "execution_count": null,
   "metadata": {
    "collapsed": false
   },
   "outputs": [],
   "source": []
  },
  {
   "cell_type": "markdown",
   "metadata": {},
   "source": [
    "### Visualizing Performance Against Baseline"
   ]
  },
  {
   "cell_type": "markdown",
   "metadata": {},
   "source": [
    "#### Visualizing AUC and comparing Models"
   ]
  },
  {
   "cell_type": "code",
   "execution_count": 9,
   "metadata": {
    "collapsed": true
   },
   "outputs": [],
   "source": [
    "from sklearn import dummy, metrics"
   ]
  },
  {
   "cell_type": "code",
   "execution_count": 10,
   "metadata": {
    "collapsed": false
   },
   "outputs": [],
   "source": [
    "model0 = dummy.DummyClassifier()\n",
    "model0.fit(df[features[1:]], df['DEP_DEL15'])\n",
    "df['probability_0'] = model0.predict_proba(df[features[1:]]).T[1]\n",
    "\n",
    "model1 = lm.LogisticRegression()\n",
    "model.fit(df[features[1:]], df['DEP_DEL15'])\n",
    "df['probability_1'] = model.predict_proba(df[features[1:]]).T[1]\n"
   ]
  },
  {
   "cell_type": "code",
   "execution_count": 11,
   "metadata": {
    "collapsed": false
   },
   "outputs": [
    {
     "data": {
      "text/plain": [
       "(458311, 40)"
      ]
     },
     "execution_count": 11,
     "metadata": {},
     "output_type": "execute_result"
    }
   ],
   "source": [
    "df.shape"
   ]
  },
  {
   "cell_type": "code",
   "execution_count": 12,
   "metadata": {
    "collapsed": false
   },
   "outputs": [
    {
     "data": {
      "text/plain": [
       "[(0, 1),\n",
       " <matplotlib.text.Text at 0x114e27590>,\n",
       " (0, 1),\n",
       " <matplotlib.text.Text at 0x1154df890>,\n",
       " <matplotlib.text.Text at 0x114e5c150>]"
      ]
     },
     "execution_count": 12,
     "metadata": {},
     "output_type": "execute_result"
    },
    {
     "data": {
      "image/png": "[encoded data removed]",
      "text/plain": [
       "<matplotlib.figure.Figure at 0x11542be50>"
      ]
     },
     "metadata": {},
     "output_type": "display_data"
    }
   ],
   "source": [
    "ax = plt.subplot(111)\n",
    "vals = metrics.roc_curve(df.DEP_DEL15, df.probability_0)\n",
    "ax.plot(vals[0], vals[1])\n",
    "vals = metrics.roc_curve(df.DEP_DEL15, df.probability_1)\n",
    "ax.plot(vals[0], vals[1])\n",
    "\n",
    "ax.set(title='Area Under the Curve for prediction delayed=1', ylabel='', xlabel='', xlim=(0, 1), ylim=(0, 1))"
   ]
  },
  {
   "cell_type": "markdown",
   "metadata": {},
   "source": [
    "#### Visualizing Precision / Recall"
   ]
  },
  {
   "cell_type": "code",
   "execution_count": null,
   "metadata": {
    "collapsed": true
   },
   "outputs": [],
   "source": []
  }
 ],
 "metadata": {
  "kernelspec": {
   "display_name": "Python 2",
   "language": "python",
   "name": "python2"
  },
  "language_info": {
   "codemirror_mode": {
    "name": "ipython",
    "version": 2
   },
   "file_extension": ".py",
   "mimetype": "text/x-python",
   "name": "python",
   "nbconvert_exporter": "python",
   "pygments_lexer": "ipython2",
   "version": "2.7.10"
  }
 },
 "nbformat": 4,
 "nbformat_minor": 0
}
